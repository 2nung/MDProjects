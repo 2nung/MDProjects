{
 "cells": [
  {
   "cell_type": "code",
   "execution_count": 1,
   "metadata": {
    "executionInfo": {
     "elapsed": 3090,
     "status": "ok",
     "timestamp": 1647299176064,
     "user": {
      "displayName": "김용담",
      "photoUrl": "https://lh3.googleusercontent.com/a/default-user=s64",
      "userId": "10119145002330676671"
     },
     "user_tz": -540
    },
    "id": "Tifm1-8CPohp"
   },
   "outputs": [],
   "source": [
    "# Import Libraries\n",
    "import numpy as np\n",
    "import tensorflow as tf\n",
    "\n",
    "from tensorflow.keras.datasets import cifar10\n",
    "from tensorflow.keras.models import Sequential\n",
    "from tensorflow.keras.layers import Dense, Flatten, Input\n",
    "from tensorflow.keras.layers import Dropout\n",
    "from tensorflow.keras.layers import Conv2D, MaxPool2D"
   ]
  },
  {
   "cell_type": "code",
   "execution_count": 2,
   "metadata": {
    "colab": {
     "base_uri": "https://localhost:8080/"
    },
    "executionInfo": {
     "elapsed": 8749,
     "status": "ok",
     "timestamp": 1647299286000,
     "user": {
      "displayName": "김용담",
      "photoUrl": "https://lh3.googleusercontent.com/a/default-user=s64",
      "userId": "10119145002330676671"
     },
     "user_tz": -540
    },
    "id": "B_DfrD71RMbU",
    "outputId": "b52ae343-87df-4b44-8a5b-2857ac25d695"
   },
   "outputs": [
    {
     "name": "stdout",
     "output_type": "stream",
     "text": [
      "Downloading data from https://www.cs.toronto.edu/~kriz/cifar-10-python.tar.gz\n",
      "170498071/170498071 [==============================] - 12s 0us/step\n",
      "(50000, 32, 32, 3)\n",
      "(10000, 32, 32, 3)\n"
     ]
    }
   ],
   "source": [
    "# Load Datasets\n",
    "(X_train, y_train), (X_test, y_test) = cifar10.load_data()\n",
    "print(X_train.shape) # 4차원 Tensor\n",
    "print(X_test.shape)"
   ]
  },
  {
   "cell_type": "code",
   "execution_count": 3,
   "metadata": {
    "executionInfo": {
     "elapsed": 993,
     "status": "ok",
     "timestamp": 1647299376986,
     "user": {
      "displayName": "김용담",
      "photoUrl": "https://lh3.googleusercontent.com/a/default-user=s64",
      "userId": "10119145002330676671"
     },
     "user_tz": -540
    },
    "id": "VZNehz43MBcX"
   },
   "outputs": [],
   "source": [
    "# min-max scaling\n",
    "# RGB : [0, 255]\n",
    "X_train = X_train.astype(np.float32) / 255.0\n",
    "X_test = X_test.astype(np.float32) / 255."
   ]
  },
  {
   "cell_type": "code",
   "execution_count": 4,
   "metadata": {
    "colab": {
     "base_uri": "https://localhost:8080/"
    },
    "executionInfo": {
     "elapsed": 3119,
     "status": "ok",
     "timestamp": 1647299738054,
     "user": {
      "displayName": "김용담",
      "photoUrl": "https://lh3.googleusercontent.com/a/default-user=s64",
      "userId": "10119145002330676671"
     },
     "user_tz": -540
    },
    "id": "0Bu7msHoSQv5",
    "outputId": "9467e16b-5682-4c5b-b930-89d452b0319c"
   },
   "outputs": [
    {
     "name": "stdout",
     "output_type": "stream",
     "text": [
      "Model: \"sequential\"\n",
      "_________________________________________________________________\n",
      " Layer (type)                Output Shape              Param #   \n",
      "=================================================================\n",
      " conv2d (Conv2D)             (None, 32, 32, 6)         168       \n",
      "                                                                 \n",
      " conv2d_1 (Conv2D)           (None, 32, 32, 16)        880       \n",
      "                                                                 \n",
      " max_pooling2d (MaxPooling2D  (None, 16, 16, 16)       0         \n",
      " )                                                               \n",
      "                                                                 \n",
      " conv2d_2 (Conv2D)           (None, 16, 16, 24)        3480      \n",
      "                                                                 \n",
      " conv2d_3 (Conv2D)           (None, 16, 16, 48)        10416     \n",
      "                                                                 \n",
      " max_pooling2d_1 (MaxPooling  (None, 8, 8, 48)         0         \n",
      " 2D)                                                             \n",
      "                                                                 \n",
      " flatten (Flatten)           (None, 3072)              0         \n",
      "                                                                 \n",
      " dense (Dense)               (None, 1024)              3146752   \n",
      "                                                                 \n",
      " dense_1 (Dense)             (None, 10)                10250     \n",
      "                                                                 \n",
      "=================================================================\n",
      "Total params: 3,171,946\n",
      "Trainable params: 3,171,946\n",
      "Non-trainable params: 0\n",
      "_________________________________________________________________\n"
     ]
    }
   ],
   "source": [
    "model = Sequential([\n",
    "                    Conv2D(input_shape=(32, 32, 3), filters=6, kernel_size=(3, 3),\n",
    "                           strides=(1, 1), padding=\"same\", activation='relu'),\n",
    "                    Conv2D(16, 3, 1, padding=\"same\", activation='relu'),\n",
    "                    MaxPool2D(pool_size=(2, 2), strides=(2, 2)),\n",
    "                    Conv2D(24, 3, 1, padding=\"same\", activation='relu'),\n",
    "                    Conv2D(48, 3, 1, padding=\"same\", activation='relu'),\n",
    "                    MaxPool2D(), \n",
    "                    Flatten(), # activation map : 48 x 8 x 8\n",
    "                    Dense(1024, activation='relu'), # fully-connected\n",
    "                    Dense(10, activation=\"softmax\") # output-class 10\n",
    "])\n",
    "\n",
    "model.summary()"
   ]
  },
  {
   "cell_type": "code",
   "execution_count": 5,
   "metadata": {
    "executionInfo": {
     "elapsed": 595,
     "status": "ok",
     "timestamp": 1647299868699,
     "user": {
      "displayName": "김용담",
      "photoUrl": "https://lh3.googleusercontent.com/a/default-user=s64",
      "userId": "10119145002330676671"
     },
     "user_tz": -540
    },
    "id": "5cKYHdiUlyTy"
   },
   "outputs": [],
   "source": [
    "# training setup\n",
    "from tensorflow.keras.optimizers import SGD\n",
    "\n",
    "## config variables\n",
    "batch_size = 128\n",
    "lr = 0.01 # 1e-5\n",
    "epochs = 15\n",
    "\n",
    "# Set optimizer, loss function, metrics, callback function\n",
    "optimizer = SGD(lr, momentum=0.9)\n",
    "loss_fn = \"sparse_categorical_crossentropy\" # multi-class classification\n",
    "metrics = [\"accuracy\"]\n",
    "\n",
    "model.compile(optimizer=optimizer,\n",
    "              loss=loss_fn,\n",
    "              metrics=metrics)"
   ]
  },
  {
   "cell_type": "code",
   "execution_count": null,
   "metadata": {
    "colab": {
     "base_uri": "https://localhost:8080/"
    },
    "executionInfo": {
     "elapsed": 106245,
     "status": "ok",
     "timestamp": 1647299996438,
     "user": {
      "displayName": "김용담",
      "photoUrl": "https://lh3.googleusercontent.com/a/default-user=s64",
      "userId": "10119145002330676671"
     },
     "user_tz": -540
    },
    "id": "u3E2WHWcmmTg",
    "outputId": "2f7a7bbe-0fa9-4c82-f29b-5766780f2281"
   },
   "outputs": [
    {
     "name": "stdout",
     "output_type": "stream",
     "text": [
      "Epoch 1/15\n",
      "391/391 [==============================] - 51s 130ms/step - loss: 1.7871 - accuracy: 0.3566 - val_loss: 1.4207 - val_accuracy: 0.4883\n",
      "Epoch 2/15\n",
      "391/391 [==============================] - 47s 119ms/step - loss: 1.3311 - accuracy: 0.5279 - val_loss: 1.2134 - val_accuracy: 0.5679\n",
      "Epoch 3/15\n",
      "287/391 [=====================>........] - ETA: 11s - loss: 1.1173 - accuracy: 0.6052"
     ]
    }
   ],
   "source": [
    "# model training\n",
    "history = model.fit(X_train, y_train,\n",
    "                    batch_size=batch_size,\n",
    "                    epochs=epochs,\n",
    "                    validation_data=(X_test, y_test), # 매 epoch마다 validation 성능 체크 가능!\n",
    "                    verbose=1)"
   ]
  },
  {
   "cell_type": "code",
   "execution_count": null,
   "metadata": {
    "colab": {
     "base_uri": "https://localhost:8080/"
    },
    "executionInfo": {
     "elapsed": 2143,
     "status": "ok",
     "timestamp": 1647300097714,
     "user": {
      "displayName": "김용담",
      "photoUrl": "https://lh3.googleusercontent.com/a/default-user=s64",
      "userId": "10119145002330676671"
     },
     "user_tz": -540
    },
    "id": "Pf-qRnKQnvIw",
    "outputId": "80323368-a0b5-4552-bc9a-59ed46de1780"
   },
   "outputs": [],
   "source": [
    "# evaluate\n",
    "loss, acc = model.evaluate(X_test, y_test, batch_size=batch_size)\n",
    "print(\"Loss : %.4f, Accuracy : %.4f\" % (loss, acc))"
   ]
  },
  {
   "cell_type": "code",
   "execution_count": null,
   "metadata": {
    "colab": {
     "base_uri": "https://localhost:8080/",
     "height": 297
    },
    "executionInfo": {
     "elapsed": 1044,
     "status": "ok",
     "timestamp": 1647300105808,
     "user": {
      "displayName": "김용담",
      "photoUrl": "https://lh3.googleusercontent.com/a/default-user=s64",
      "userId": "10119145002330676671"
     },
     "user_tz": -540
    },
    "id": "8vquJ73VwGfN",
    "outputId": "c6de3761-029e-46ed-9804-2a1eb739933d"
   },
   "outputs": [],
   "source": [
    "## loss visualize\n",
    "import matplotlib.pyplot as plt\n",
    "\n",
    "plt.figure(figsize=(8,4))\n",
    "plt.subplot(1, 2,1)\n",
    "plt.plot(history.history['loss'],'b-', label = \"training\")\n",
    "plt.plot(history.history['val_loss'], 'r:', label = \"validation\")\n",
    "plt.title(\"model - loss\")\n",
    "plt.legend()\n",
    "\n",
    "plt.subplot(1, 2, 2)\n",
    "plt.title(\"model - accuracy\")\n",
    "\n",
    "plt.plot(history.history['accuracy'], 'b-', label = \"training\")\n",
    "plt.plot(history.history['val_accuracy'], 'r:', label = \"validation\")\n",
    "\n",
    "plt.legend()\n",
    "plt.tight_layout()\n",
    "plt.show()"
   ]
  },
  {
   "cell_type": "code",
   "execution_count": null,
   "metadata": {
    "executionInfo": {
     "elapsed": 1435,
     "status": "ok",
     "timestamp": 1647300213582,
     "user": {
      "displayName": "김용담",
      "photoUrl": "https://lh3.googleusercontent.com/a/default-user=s64",
      "userId": "10119145002330676671"
     },
     "user_tz": -540
    },
    "id": "1qTVUYFExQ3x"
   },
   "outputs": [],
   "source": [
    "# load ResNet50\n",
    "from tensorflow.keras.applications import ResNet50   # pretrained model -> ImageNet\n",
    "\n",
    "resnet = ResNet50(\n",
    "    include_top=True,  # classification : True,  embedding : False\n",
    "    weights=None,\n",
    "    input_shape=(32, 32, 3),\n",
    "    pooling=\"avg\",\n",
    "    classes=10,\n",
    "    classifier_activation=\"softmax\"\n",
    ")"
   ]
  },
  {
   "cell_type": "code",
   "execution_count": null,
   "metadata": {
    "colab": {
     "base_uri": "https://localhost:8080/"
    },
    "executionInfo": {
     "elapsed": 2164,
     "status": "ok",
     "timestamp": 1647300251582,
     "user": {
      "displayName": "김용담",
      "photoUrl": "https://lh3.googleusercontent.com/a/default-user=s64",
      "userId": "10119145002330676671"
     },
     "user_tz": -540
    },
    "id": "JLQdDl8B1GxJ",
    "outputId": "a1d7852c-2662-4ecd-ea6d-cc53fabf0087"
   },
   "outputs": [],
   "source": [
    "# see ResNet50 model\n",
    "resnet.summary()"
   ]
  },
  {
   "cell_type": "code",
   "execution_count": null,
   "metadata": {
    "executionInfo": {
     "elapsed": 394,
     "status": "ok",
     "timestamp": 1647300324580,
     "user": {
      "displayName": "김용담",
      "photoUrl": "https://lh3.googleusercontent.com/a/default-user=s64",
      "userId": "10119145002330676671"
     },
     "user_tz": -540
    },
    "id": "jvnMbbrs3IYF"
   },
   "outputs": [],
   "source": [
    "### resnet training strategy\n",
    "\n",
    "batch_size = 32\n",
    "epochs = 10\n",
    "lr = 0.1\n",
    "\n",
    "optimizer = SGD(lr, momentum=0.9)\n",
    "loss_fn = \"sparse_categorical_crossentropy\"\n",
    "metrics = [\"accuracy\"]\n",
    "\n",
    "resnet.compile(optimizer=optimizer,\n",
    "               loss=loss_fn,\n",
    "               metrics=metrics)"
   ]
  },
  {
   "cell_type": "code",
   "execution_count": null,
   "metadata": {
    "colab": {
     "base_uri": "https://localhost:8080/",
     "height": 433
    },
    "executionInfo": {
     "elapsed": 237198,
     "status": "error",
     "timestamp": 1647300563892,
     "user": {
      "displayName": "김용담",
      "photoUrl": "https://lh3.googleusercontent.com/a/default-user=s64",
      "userId": "10119145002330676671"
     },
     "user_tz": -540
    },
    "id": "ugA0csg_1LiX",
    "outputId": "6dbbbc16-dccf-4d10-bec0-8b550ac57af6"
   },
   "outputs": [],
   "source": [
    "# training ResNet50\n",
    "resnet_history = resnet.fit(X_train, y_train,\n",
    "                            batch_size=batch_size,\n",
    "                            epochs=epochs,\n",
    "                            validation_data=(X_test, y_test),\n",
    "                            verbose=1)"
   ]
  },
  {
   "cell_type": "code",
   "execution_count": null,
   "metadata": {
    "executionInfo": {
     "elapsed": 473,
     "status": "aborted",
     "timestamp": 1647300563890,
     "user": {
      "displayName": "김용담",
      "photoUrl": "https://lh3.googleusercontent.com/a/default-user=s64",
      "userId": "10119145002330676671"
     },
     "user_tz": -540
    },
    "id": "9XDnuNQK1hTW"
   },
   "outputs": [],
   "source": [
    "## loss visualize\n",
    "import matplotlib.pyplot as plt\n",
    "\n",
    "plt.figure(figsize=(8,4))\n",
    "plt.subplot(1, 2,1)\n",
    "plt.plot(resnet_history.history['loss'],'b-', label = \"training\")\n",
    "plt.plot(resnet_history.history['val_loss'], 'r:', label = \"validation\")\n",
    "plt.title(\"model - loss\")\n",
    "plt.legend()\n",
    "\n",
    "plt.subplot(1, 2, 2)\n",
    "plt.title(\"model - accuracy\")\n",
    "\n",
    "plt.plot(resnet_history.history['accuracy'], 'b-', label = \"training\")\n",
    "plt.plot(resnet_history.history['val_accuracy'], 'r:', label = \"validation\")\n",
    "\n",
    "plt.legend()\n",
    "plt.tight_layout()\n",
    "plt.show()"
   ]
  }
 ],
 "metadata": {
  "accelerator": "GPU",
  "colab": {
   "collapsed_sections": [],
   "name": "Chapter.03 딥러닝 핵심 알고리즘-03. Mini PJT. CIFAR10 이미지 분류.ipynb",
   "provenance": [
    {
     "file_id": "1igIau9smclNLhhDRXW5tbrpRw96bYG-I",
     "timestamp": 1645416477198
    }
   ]
  },
  "kernelspec": {
   "display_name": "Python 3 (ipykernel)",
   "language": "python",
   "name": "python3"
  },
  "language_info": {
   "codemirror_mode": {
    "name": "ipython",
    "version": 3
   },
   "file_extension": ".py",
   "mimetype": "text/x-python",
   "name": "python",
   "nbconvert_exporter": "python",
   "pygments_lexer": "ipython3",
   "version": "3.9.13"
  }
 },
 "nbformat": 4,
 "nbformat_minor": 1
}
