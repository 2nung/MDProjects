{
 "cells": [
  {
   "cell_type": "code",
   "execution_count": 1,
   "metadata": {
    "executionInfo": {
     "elapsed": 3586,
     "status": "ok",
     "timestamp": 1647300903805,
     "user": {
      "displayName": "김용담",
      "photoUrl": "https://lh3.googleusercontent.com/a/default-user=s64",
      "userId": "10119145002330676671"
     },
     "user_tz": -540
    },
    "id": "JzU0fnI61OCx"
   },
   "outputs": [],
   "source": [
    "import numpy as np\n",
    "import tensorflow as tf\n",
    "from tensorflow import keras\n",
    "from tensorflow.keras import Model\n",
    "from tensorflow.keras.layers import Input, Embedding, Bidirectional, LSTM, Dense\n",
    "\n",
    "vocab_size = 25000  # 사용할 단어 개수\n",
    "maxlen = 200  # Bi-LSTM에 들어갈 최대 input sequence의 수 (단어 수)"
   ]
  },
  {
   "cell_type": "code",
   "execution_count": 2,
   "metadata": {
    "colab": {
     "base_uri": "https://localhost:8080/"
    },
    "executionInfo": {
     "elapsed": 4497,
     "status": "ok",
     "timestamp": 1647301210966,
     "user": {
      "displayName": "김용담",
      "photoUrl": "https://lh3.googleusercontent.com/a/default-user=s64",
      "userId": "10119145002330676671"
     },
     "user_tz": -540
    },
    "id": "19R3bprI1OCy",
    "outputId": "aea72fb7-ddf6-43b7-c701-ba95719b4431"
   },
   "outputs": [
    {
     "name": "stdout",
     "output_type": "stream",
     "text": [
      "Model: \"model\"\n",
      "_________________________________________________________________\n",
      " Layer (type)                Output Shape              Param #   \n",
      "=================================================================\n",
      " input_1 (InputLayer)        [(None, None)]            0         \n",
      "                                                                 \n",
      " embedding (Embedding)       (None, None, 100)         2500000   \n",
      "                                                                 \n",
      " bidirectional (Bidirectiona  (None, 256)              234496    \n",
      " l)                                                              \n",
      "                                                                 \n",
      " dense (Dense)               (None, 1)                 257       \n",
      "                                                                 \n",
      "=================================================================\n",
      "Total params: 2,734,753\n",
      "Trainable params: 2,734,753\n",
      "Non-trainable params: 0\n",
      "_________________________________________________________________\n"
     ]
    }
   ],
   "source": [
    "# input layer -> Bi-LSTM -> Dense(output)\n",
    "inputs = Input(shape=(None,), dtype=\"int32\")\n",
    "\n",
    "x = Embedding(vocab_size, 100)(inputs) ## text -> vector (100d)\n",
    "x = Bidirectional(LSTM(128))(x) # # of hidden layer node = 128 (hyper-parameter)\n",
    "x = Bidirectional(LSTM(128))(x) ## Multi-Layer Bi-LSTM\n",
    "\n",
    "outputs = Dense(1, activation=\"sigmoid\")(x) # [0, 1] ## binary classification\n",
    "model = Model(inputs, outputs)\n",
    "model.summary()"
   ]
  },
  {
   "cell_type": "code",
   "execution_count": 3,
   "metadata": {
    "colab": {
     "base_uri": "https://localhost:8080/"
    },
    "executionInfo": {
     "elapsed": 5819,
     "status": "ok",
     "timestamp": 1647301257472,
     "user": {
      "displayName": "김용담",
      "photoUrl": "https://lh3.googleusercontent.com/a/default-user=s64",
      "userId": "10119145002330676671"
     },
     "user_tz": -540
    },
    "id": "SiPavv_t1OCy",
    "outputId": "7c1ffd28-b19f-4c1d-9834-dadbc245aa72"
   },
   "outputs": [
    {
     "name": "stdout",
     "output_type": "stream",
     "text": [
      "Downloading data from https://storage.googleapis.com/tensorflow/tf-keras-datasets/imdb.npz\n",
      "17465344/17464789 [==============================] - 0s 0us/step\n",
      "17473536/17464789 [==============================] - 0s 0us/step\n",
      "25000 Training sequences\n",
      "25000 Test sequences\n"
     ]
    }
   ],
   "source": [
    "(X_train, y_train), (X_test, y_test) = keras.datasets.imdb.load_data(num_words=vocab_size)\n",
    "\n",
    "print(len(X_train), \"Training sequences\")\n",
    "print(len(X_test), \"Test sequences\")\n",
    "\n",
    "X_train = keras.preprocessing.sequence.pad_sequences(X_train, maxlen=maxlen) # zero-padding\n",
    "X_test = keras.preprocessing.sequence.pad_sequences(X_test, maxlen=maxlen)"
   ]
  },
  {
   "cell_type": "code",
   "execution_count": 4,
   "metadata": {
    "executionInfo": {
     "elapsed": 385,
     "status": "ok",
     "timestamp": 1647301330646,
     "user": {
      "displayName": "김용담",
      "photoUrl": "https://lh3.googleusercontent.com/a/default-user=s64",
      "userId": "10119145002330676671"
     },
     "user_tz": -540
    },
    "id": "udzXeZIT1OCz"
   },
   "outputs": [],
   "source": [
    "# training setup\n",
    "from tensorflow.keras.optimizers import SGD\n",
    "\n",
    "## config variables\n",
    "batch_size = 128\n",
    "lr = 0.1\n",
    "epochs = 15\n",
    "\n",
    "# Set optimizer, loss function, metrics\n",
    "optimizer = SGD(lr, momentum=0.9)\n",
    "loss_fn = \"binary_crossentropy\" # binary-classification\n",
    "metrics = [\"accuracy\"]\n",
    "\n",
    "model.compile(optimizer=optimizer,\n",
    "              loss=loss_fn,\n",
    "              metrics=metrics)"
   ]
  },
  {
   "cell_type": "code",
   "execution_count": 5,
   "metadata": {
    "colab": {
     "base_uri": "https://localhost:8080/"
    },
    "executionInfo": {
     "elapsed": 145836,
     "status": "ok",
     "timestamp": 1647301481476,
     "user": {
      "displayName": "김용담",
      "photoUrl": "https://lh3.googleusercontent.com/a/default-user=s64",
      "userId": "10119145002330676671"
     },
     "user_tz": -540
    },
    "id": "6Z6HcGyfjBE1",
    "outputId": "bf01e3dd-3409-466a-fa14-700c64bdd4f7"
   },
   "outputs": [
    {
     "name": "stdout",
     "output_type": "stream",
     "text": [
      "Epoch 1/5\n",
      "196/196 [==============================] - 33s 126ms/step - loss: 0.6929 - accuracy: 0.5125 - val_loss: 0.6886 - val_accuracy: 0.5254\n",
      "Epoch 2/5\n",
      "196/196 [==============================] - 23s 119ms/step - loss: 0.6743 - accuracy: 0.5774 - val_loss: 0.6709 - val_accuracy: 0.6196\n",
      "Epoch 3/5\n",
      "196/196 [==============================] - 23s 120ms/step - loss: 0.6413 - accuracy: 0.6284 - val_loss: 0.5214 - val_accuracy: 0.7376\n",
      "Epoch 4/5\n",
      "196/196 [==============================] - 23s 120ms/step - loss: 0.6268 - accuracy: 0.6465 - val_loss: 0.5929 - val_accuracy: 0.6733\n",
      "Epoch 5/5\n",
      "196/196 [==============================] - 23s 119ms/step - loss: 0.6251 - accuracy: 0.6611 - val_loss: 0.5418 - val_accuracy: 0.7236\n"
     ]
    },
    {
     "data": {
      "text/plain": [
       "<keras.callbacks.History at 0x7efe979b2110>"
      ]
     },
     "execution_count": 5,
     "metadata": {},
     "output_type": "execute_result"
    }
   ],
   "source": [
    "model.fit(X_train, y_train,\n",
    "          batch_size=128,\n",
    "          epochs=5,\n",
    "          verbose=1,\n",
    "          validation_data=(X_test, y_test))"
   ]
  },
  {
   "cell_type": "code",
   "execution_count": 6,
   "metadata": {
    "colab": {
     "base_uri": "https://localhost:8080/"
    },
    "executionInfo": {
     "elapsed": 41179,
     "status": "ok",
     "timestamp": 1647301523490,
     "user": {
      "displayName": "김용담",
      "photoUrl": "https://lh3.googleusercontent.com/a/default-user=s64",
      "userId": "10119145002330676671"
     },
     "user_tz": -540
    },
    "id": "8fPzE9ZVz5gN",
    "outputId": "ea7495e4-91e8-4528-e44e-e036b1b0b974"
   },
   "outputs": [
    {
     "name": "stdout",
     "output_type": "stream",
     "text": [
      "782/782 [==============================] - 26s 33ms/step - loss: 0.5418 - accuracy: 0.7236\n"
     ]
    },
    {
     "data": {
      "text/plain": [
       "[0.5418499708175659, 0.7235599756240845]"
      ]
     },
     "execution_count": 6,
     "metadata": {},
     "output_type": "execute_result"
    }
   ],
   "source": [
    "model.evaluate(X_test, y_test)"
   ]
  }
 ],
 "metadata": {
  "accelerator": "GPU",
  "colab": {
   "collapsed_sections": [],
   "name": "Chapter.03 딥러닝 핵심 알고리즘-07. Mini PJT. IMDB 영화 댓글 감정 분석.ipynb",
   "provenance": [
    {
     "file_id": "https://github.com/keras-team/keras-io/blob/master/examples/nlp/ipynb/bidirectional_lstm_imdb.ipynb",
     "timestamp": 1608483602558
    }
   ]
  },
  "kernelspec": {
   "display_name": "Python 3 (ipykernel)",
   "language": "python",
   "name": "python3"
  },
  "language_info": {
   "codemirror_mode": {
    "name": "ipython",
    "version": 3
   },
   "file_extension": ".py",
   "mimetype": "text/x-python",
   "name": "python",
   "nbconvert_exporter": "python",
   "pygments_lexer": "ipython3",
   "version": "3.9.13"
  }
 },
 "nbformat": 4,
 "nbformat_minor": 1
}
